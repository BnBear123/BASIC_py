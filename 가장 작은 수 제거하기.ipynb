{
 "cells": [
  {
   "cell_type": "code",
   "execution_count": 1,
   "id": "466f8010",
   "metadata": {},
   "outputs": [],
   "source": [
    "arr = [4,3,2,1]"
   ]
  },
  {
   "cell_type": "code",
   "execution_count": 4,
   "id": "407bb47a",
   "metadata": {},
   "outputs": [],
   "source": [
    "def solution(arr):\n",
    "    answer=[]\n",
    "    if not(len(arr)) > 1:\n",
    "        arr[0] = -1\n",
    "        answer = arr\n",
    "    else:\n",
    "        arr.pop(arr.index(min(arr)))\n",
    "        answer = arr\n",
    "    return answer"
   ]
  },
  {
   "cell_type": "code",
   "execution_count": 3,
   "id": "0aa65a23",
   "metadata": {},
   "outputs": [],
   "source": [
    "def solution(arr):\n",
    "    answer = []\n",
    "    if len(arr) > 1:\n",
    "        arr.sort()\n",
    "        arr.pop(0)\n",
    "        answer = arr\n",
    "    else:\n",
    "        arr[0] = -1\n",
    "        answer = arr\n",
    "    return answer\n",
    "\n",
    "#처음에 이걸했는데 오답이었다 왜냐하면 sort하는 순간 처음 입력한 리스트와 달라져서 오답 처리 됨 우씌"
   ]
  },
  {
   "cell_type": "code",
   "execution_count": 5,
   "id": "7a410885",
   "metadata": {},
   "outputs": [
    {
     "data": {
      "text/plain": [
       "[4, 3, 2]"
      ]
     },
     "execution_count": 5,
     "metadata": {},
     "output_type": "execute_result"
    }
   ],
   "source": [
    "solution(arr)"
   ]
  },
  {
   "cell_type": "code",
   "execution_count": null,
   "id": "a9bc9035",
   "metadata": {},
   "outputs": [],
   "source": []
  }
 ],
 "metadata": {
  "kernelspec": {
   "display_name": "Python 3 (ipykernel)",
   "language": "python",
   "name": "python3"
  },
  "language_info": {
   "codemirror_mode": {
    "name": "ipython",
    "version": 3
   },
   "file_extension": ".py",
   "mimetype": "text/x-python",
   "name": "python",
   "nbconvert_exporter": "python",
   "pygments_lexer": "ipython3",
   "version": "3.9.7"
  }
 },
 "nbformat": 4,
 "nbformat_minor": 5
}
