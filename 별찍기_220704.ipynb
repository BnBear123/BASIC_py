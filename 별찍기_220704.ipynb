{
 "cells": [
  {
   "cell_type": "code",
   "execution_count": 1,
   "id": "2a2793d8",
   "metadata": {},
   "outputs": [
    {
     "name": "stdout",
     "output_type": "stream",
     "text": [
      "5\n",
      "*\n",
      "**\n",
      "***\n",
      "****\n",
      "*****\n"
     ]
    }
   ],
   "source": [
    "# 별찍기1\n",
    "i = int(input())\n",
    "for k in range(1, i+1):\n",
    "    print(\"*\"*k)"
   ]
  },
  {
   "cell_type": "code",
   "execution_count": 2,
   "id": "8e17cdd4",
   "metadata": {},
   "outputs": [
    {
     "name": "stdout",
     "output_type": "stream",
     "text": [
      "5\n",
      "    *\n",
      "   **\n",
      "  ***\n",
      " ****\n",
      "*****\n"
     ]
    }
   ],
   "source": [
    "# 별찍기2\n",
    "i = int(input())\n",
    "for k in range(1, i+1):\n",
    "    print(\" \"*(i-k)+\"*\"*k)"
   ]
  },
  {
   "cell_type": "code",
   "execution_count": 3,
   "id": "be2688b2",
   "metadata": {},
   "outputs": [
    {
     "name": "stdout",
     "output_type": "stream",
     "text": [
      "5\n",
      "*****\n",
      "****\n",
      "***\n",
      "**\n",
      "*\n"
     ]
    }
   ],
   "source": [
    "# 별찍기3\n",
    "i = int(input())\n",
    "for k in range(1, i+1):\n",
    "    print(\"*\"*((i+1)-k))"
   ]
  },
  {
   "cell_type": "code",
   "execution_count": 6,
   "id": "8cad10e1",
   "metadata": {},
   "outputs": [
    {
     "name": "stdout",
     "output_type": "stream",
     "text": [
      "5\n",
      "*****\n",
      " ****\n",
      "  ***\n",
      "   **\n",
      "    *\n"
     ]
    }
   ],
   "source": [
    "# 별찍기4\n",
    "i = int(input())\n",
    "for k in range(0, i):\n",
    "    print(\" \"*k+\"*\"*(i-k))"
   ]
  },
  {
   "cell_type": "code",
   "execution_count": 26,
   "id": "31039a38",
   "metadata": {},
   "outputs": [
    {
     "name": "stdout",
     "output_type": "stream",
     "text": [
      "5\n",
      "    *\n",
      "   ***\n",
      "  *****\n",
      " *******\n",
      "*********\n"
     ]
    }
   ],
   "source": [
    "# 별찍기5\n",
    "i = int(input())\n",
    "for k in range(1, i+1):\n",
    "    print(\" \"*(i-k) + \"*\"*(2*k-1))"
   ]
  },
  {
   "cell_type": "code",
   "execution_count": 67,
   "id": "ccc55fd1",
   "metadata": {},
   "outputs": [
    {
     "name": "stdout",
     "output_type": "stream",
     "text": [
      "5\n",
      "*********\n",
      " *******\n",
      "  *****\n",
      "   ***\n",
      "    *\n"
     ]
    }
   ],
   "source": [
    "# 별찍기6\n",
    "i = int(input())\n",
    "for k in range(1, i+1):\n",
    "    print(\" \"*(k-1) + \"*\"*(2*i-(2*k-1)))"
   ]
  },
  {
   "cell_type": "code",
   "execution_count": 71,
   "id": "998e7fe4",
   "metadata": {},
   "outputs": [
    {
     "name": "stdout",
     "output_type": "stream",
     "text": [
      "5\n",
      "    *\n",
      "   ***\n",
      "  *****\n",
      " *******\n",
      "*********\n",
      " *******\n",
      "  *****\n",
      "   ***\n",
      "    *\n"
     ]
    }
   ],
   "source": [
    "# 별찍기7\n",
    "i = int(input())\n",
    "for k in range(1, i):\n",
    "    print(\" \"*(i-k) + \"*\"*(2*k-1))\n",
    "for k in range(1, i+1):\n",
    "    print(\" \"*(k-1) + \"*\"*(2*i-(2*k-1)))"
   ]
  }
 ],
 "metadata": {
  "kernelspec": {
   "display_name": "Python 3 (ipykernel)",
   "language": "python",
   "name": "python3"
  },
  "language_info": {
   "codemirror_mode": {
    "name": "ipython",
    "version": 3
   },
   "file_extension": ".py",
   "mimetype": "text/x-python",
   "name": "python",
   "nbconvert_exporter": "python",
   "pygments_lexer": "ipython3",
   "version": "3.9.7"
  }
 },
 "nbformat": 4,
 "nbformat_minor": 5
}
