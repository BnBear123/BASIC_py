{
 "cells": [
  {
   "cell_type": "code",
   "execution_count": 1,
   "id": "2a2793d8",
   "metadata": {},
   "outputs": [
    {
     "name": "stdout",
     "output_type": "stream",
     "text": [
      "5\n",
      "*\n",
      "**\n",
      "***\n",
      "****\n",
      "*****\n"
     ]
    }
   ],
   "source": [
    "# 별찍기\n",
    "i = int(input())\n",
    "for k in range(1, i+1):\n",
    "    print(\"*\"*k)"
   ]
  },
  {
   "cell_type": "code",
   "execution_count": 2,
   "id": "8e17cdd4",
   "metadata": {},
   "outputs": [
    {
     "name": "stdout",
     "output_type": "stream",
     "text": [
      "5\n",
      "    *\n",
      "   **\n",
      "  ***\n",
      " ****\n",
      "*****\n"
     ]
    }
   ],
   "source": [
    "# 별찍기2\n",
    "i = int(input())\n",
    "for k in range(1, i+1):\n",
    "    print(\" \"*(i-k)+\"*\"*k)"
   ]
  },
  {
   "cell_type": "code",
   "execution_count": 3,
   "id": "be2688b2",
   "metadata": {},
   "outputs": [
    {
     "name": "stdout",
     "output_type": "stream",
     "text": [
      "5\n",
      "*****\n",
      "****\n",
      "***\n",
      "**\n",
      "*\n"
     ]
    }
   ],
   "source": [
    "# 별찍기3\n",
    "i = int(input())\n",
    "for k in range(1, i+1):\n",
    "    print(\"*\"*((i+1)-k))"
   ]
  },
  {
   "cell_type": "code",
   "execution_count": 6,
   "id": "8cad10e1",
   "metadata": {},
   "outputs": [
    {
     "name": "stdout",
     "output_type": "stream",
     "text": [
      "5\n",
      "*****\n",
      " ****\n",
      "  ***\n",
      "   **\n",
      "    *\n"
     ]
    }
   ],
   "source": [
    "# 별찍기4\n",
    "i = int(input())\n",
    "for k in range(0, i):\n",
    "    print(\" \"*k+\"*\"*(i-k))"
   ]
  },
  {
   "cell_type": "code",
   "execution_count": null,
   "id": "31039a38",
   "metadata": {},
   "outputs": [],
   "source": []
  }
 ],
 "metadata": {
  "kernelspec": {
   "display_name": "Python 3 (ipykernel)",
   "language": "python",
   "name": "python3"
  },
  "language_info": {
   "codemirror_mode": {
    "name": "ipython",
    "version": 3
   },
   "file_extension": ".py",
   "mimetype": "text/x-python",
   "name": "python",
   "nbconvert_exporter": "python",
   "pygments_lexer": "ipython3",
   "version": "3.9.7"
  }
 },
 "nbformat": 4,
 "nbformat_minor": 5
}
