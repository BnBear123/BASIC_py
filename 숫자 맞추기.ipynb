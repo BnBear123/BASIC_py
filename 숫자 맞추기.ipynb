{
 "cells": [
  {
   "cell_type": "code",
   "execution_count": 1,
   "id": "c0853086",
   "metadata": {},
   "outputs": [],
   "source": [
    "from random import *"
   ]
  },
  {
   "cell_type": "code",
   "execution_count": 2,
   "id": "2757b707",
   "metadata": {},
   "outputs": [
    {
     "name": "stdout",
     "output_type": "stream",
     "text": [
      "1부터 100사이의 숫자를 맞추어 보세요\n",
      "기회는 단 10번 입니다.\n",
      "숫자를 입력하세요 : 55\n",
      "입력한 수가 난수보다 낮습니다.\n",
      "숫자를 입력하세요 : 66\n",
      "입력한 수가 난수보다 낮습니다.\n",
      "숫자를 입력하세요 : 77\n",
      "입력한 수가 난수보다 낮습니다.\n",
      "숫자를 입력하세요 : 99\n",
      "정답입니다. 시도횟수 : 4\n",
      "게임을 계속 하시겠습니까? :n\n",
      "게임을 종료합니다.\n",
      "기회 10번이 다 소진되어었습니다. 게임이 종료되었습니다.\n"
     ]
    }
   ],
   "source": [
    "cnt = 0\n",
    "num = randint(1,100)\n",
    "# print(\"발생한 난수의 값 : \", num)\n",
    "\n",
    "print('1부터 100사이의 숫자를 맞추어 보세요')\n",
    "print(\"기회는 단 10번 입니다.\")\n",
    "\n",
    "while cnt < 10:\n",
    "    guess = int(input(\"숫자를 입력하세요 : \"))\n",
    "    cnt +=1\n",
    "    \n",
    "    if guess < num:\n",
    "        print(\"입력한 수가 난수보다 낮습니다.\")\n",
    "    elif guess > num:\n",
    "        print(\"입력한 수가 난수보다 높습니다.\")\n",
    "    elif guess == num:\n",
    "        print(\"정답입니다. 시도횟수 :\", cnt)\n",
    "        code = input(\"게임을 계속 하시겠습니까? :\")\n",
    "        if code ==\"n\":\n",
    "            print(\"게임을 종료합니다.\")\n",
    "            break\n",
    "        else:\n",
    "            print(\"게임을 재시작합니다.\")\n",
    "            cnt = 0\n",
    "            num = randint(1,100)\n",
    "            \n",
    "\n",
    "print(\"기회 10번이 다 소진되어었습니다. 게임이 종료되었습니다.\")"
   ]
  }
 ],
 "metadata": {
  "kernelspec": {
   "display_name": "Python 3 (ipykernel)",
   "language": "python",
   "name": "python3"
  },
  "language_info": {
   "codemirror_mode": {
    "name": "ipython",
    "version": 3
   },
   "file_extension": ".py",
   "mimetype": "text/x-python",
   "name": "python",
   "nbconvert_exporter": "python",
   "pygments_lexer": "ipython3",
   "version": "3.9.7"
  }
 },
 "nbformat": 4,
 "nbformat_minor": 5
}
