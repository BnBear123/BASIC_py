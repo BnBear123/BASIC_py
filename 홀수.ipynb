{
 "cells": [
  {
   "cell_type": "code",
   "execution_count": 1,
   "id": "ab299e67",
   "metadata": {},
   "outputs": [
    {
     "name": "stdout",
     "output_type": "stream",
     "text": [
      "12\n",
      "77\n",
      "38\n",
      "41\n",
      "53\n",
      "92\n",
      "85\n",
      "256\n",
      "41\n"
     ]
    }
   ],
   "source": [
    "num_list = []\n",
    "j_list = []\n",
    "# num = 0\n",
    "\n",
    "for i in range(7):\n",
    "#     num = num +1\n",
    "    k = int(input())\n",
    "    num_list.append(k)\n",
    "\n",
    "for j in num_list:\n",
    "    if j%2 == 1:\n",
    "        j_list.append(j)\n",
    "\n",
    "if len(j_list) == 0:\n",
    "    print(-1)\n",
    "else:\n",
    "    print(sum(j_list))\n",
    "    print(min(j_list))"
   ]
  },
  {
   "cell_type": "code",
   "execution_count": 2,
   "id": "776323da",
   "metadata": {},
   "outputs": [
    {
     "name": "stdout",
     "output_type": "stream",
     "text": [
      "2\n",
      "4\n",
      "20\n",
      "32\n",
      "6\n",
      "10\n",
      "8\n",
      "-1\n"
     ]
    }
   ],
   "source": [
    "num_list = []\n",
    "j_list = []\n",
    "\n",
    "for i in range(7):\n",
    "    k = int(input())\n",
    "    num_list.append(k)\n",
    "\n",
    "for j in num_list:\n",
    "    if j%2 == 1:\n",
    "        j_list.append(j)\n",
    "\n",
    "if len(j_list) == 0:\n",
    "    print(-1)\n",
    "else:\n",
    "    print(sum(j_list))\n",
    "    print(min(j_list))"
   ]
  }
 ],
 "metadata": {
  "kernelspec": {
   "display_name": "Python 3 (ipykernel)",
   "language": "python",
   "name": "python3"
  },
  "language_info": {
   "codemirror_mode": {
    "name": "ipython",
    "version": 3
   },
   "file_extension": ".py",
   "mimetype": "text/x-python",
   "name": "python",
   "nbconvert_exporter": "python",
   "pygments_lexer": "ipython3",
   "version": "3.9.7"
  }
 },
 "nbformat": 4,
 "nbformat_minor": 5
}
