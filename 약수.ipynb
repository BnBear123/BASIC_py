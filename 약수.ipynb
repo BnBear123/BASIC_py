{
 "cells": [
  {
   "cell_type": "code",
   "execution_count": 1,
   "id": "47a3369e",
   "metadata": {},
   "outputs": [
    {
     "name": "stdout",
     "output_type": "stream",
     "text": [
      "6\n",
      "3 4 12 2 6 8\n",
      "24\n"
     ]
    }
   ],
   "source": [
    "num = int(input())\n",
    "a = list(map(int, input().split()))\n",
    "a_max = max(a)\n",
    "a_min = min(a)\n",
    "print(a_max*a_min)"
   ]
  }
 ],
 "metadata": {
  "kernelspec": {
   "display_name": "Python 3 (ipykernel)",
   "language": "python",
   "name": "python3"
  },
  "language_info": {
   "codemirror_mode": {
    "name": "ipython",
    "version": 3
   },
   "file_extension": ".py",
   "mimetype": "text/x-python",
   "name": "python",
   "nbconvert_exporter": "python",
   "pygments_lexer": "ipython3",
   "version": "3.9.7"
  }
 },
 "nbformat": 4,
 "nbformat_minor": 5
}
